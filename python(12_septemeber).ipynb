{
  "nbformat": 4,
  "nbformat_minor": 0,
  "metadata": {
    "colab": {
      "provenance": [],
      "authorship_tag": "ABX9TyOy7bSJS2vOHCawoocUQEqP",
      "include_colab_link": true
    },
    "kernelspec": {
      "name": "python3",
      "display_name": "Python 3"
    },
    "language_info": {
      "name": "python"
    }
  },
  "cells": [
    {
      "cell_type": "markdown",
      "metadata": {
        "id": "view-in-github",
        "colab_type": "text"
      },
      "source": [
        "<a href=\"https://colab.research.google.com/github/Albert-Sharma/Albert-Sharma/blob/main/python(12_septemeber).ipynb\" target=\"_parent\"><img src=\"https://colab.research.google.com/assets/colab-badge.svg\" alt=\"Open In Colab\"/></a>"
      ]
    },
    {
      "cell_type": "code",
      "execution_count": 1,
      "metadata": {
        "id": "ryD_p-n12bEx"
      },
      "outputs": [],
      "source": [
        "# control flow\n"
      ]
    },
    {
      "cell_type": "code",
      "source": [
        "i = 10\n",
        "if (i>15):\n",
        "  print(\"10 is less than 15\")\n",
        "print(\"15 is greater than 10\")"
      ],
      "metadata": {
        "colab": {
          "base_uri": "https://localhost:8080/"
        },
        "id": "kljOvMFs4U2z",
        "outputId": "079addbc-44ac-4858-92b5-81c736f7236a"
      },
      "execution_count": 2,
      "outputs": [
        {
          "output_type": "stream",
          "name": "stdout",
          "text": [
            "15 is greater than 10\n"
          ]
        }
      ]
    },
    {
      "cell_type": "code",
      "source": [
        "\n",
        "def print_rangoli(size):\n",
        "  import string\n",
        "  design = string.ascii_lowercase\n",
        "  L = []\n",
        "  for i in range(n):\n",
        "    s = \"-\".join(design[i:n])\n",
        "    L.append((s[::-1]+s[1:]).center(n*(n-3),\"-\"))\n",
        "    print('\\n'.join(L[:n:-1]+L))\n",
        "  \n",
        "  if __name__ == '__main__':\n",
        "    n = int(input(\"Enter\"))\n",
        "    print_rangoli(n)\n",
        "    \n"
      ],
      "metadata": {
        "id": "jE4ya6Ce4d0-"
      },
      "execution_count": 5,
      "outputs": []
    },
    {
      "cell_type": "code",
      "source": [
        "num1,num2 = int(input('1')),int(input('2'))\n",
        "if num1>num2:\n",
        "  print(\"1>2\")\n",
        "else:\n",
        "  print(\"2>1\")"
      ],
      "metadata": {
        "colab": {
          "base_uri": "https://localhost:8080/"
        },
        "id": "MzuZUOEk55d5",
        "outputId": "b97362f5-7347-457c-d0aa-17eb8f6ac6fe"
      },
      "execution_count": 4,
      "outputs": [
        {
          "output_type": "stream",
          "name": "stdout",
          "text": [
            "12\n",
            "22\n",
            "2>1\n"
          ]
        }
      ]
    },
    {
      "cell_type": "code",
      "source": [
        "def print_rangoli(n):\n",
        "    alpha = \"abcdefghijklmnopqrstuvwxyz\"\n",
        "    data = [alpha[i] for i in range(n)]\n",
        "    items = list(range(n))\n",
        "    items = items[:-1]+items[::-1]\n",
        "    for i in items:\n",
        "        temp = data[-(i+1):]\n",
        "        row = temp[::-1]+temp[1:]\n",
        "        print(\"-\".join(row).center(n*4-3, \"-\"))\n",
        "\n",
        "\n",
        "n = int(input())\n",
        "print_rangoli"
      ],
      "metadata": {
        "colab": {
          "base_uri": "https://localhost:8080/"
        },
        "id": "mo7bONKH6FWC",
        "outputId": "1bf39625-abce-4183-f755-d4245e9baa9e"
      },
      "execution_count": 6,
      "outputs": [
        {
          "name": "stdout",
          "output_type": "stream",
          "text": [
            "5\n"
          ]
        },
        {
          "output_type": "execute_result",
          "data": {
            "text/plain": [
              "<function __main__.print_rangoli(n)>"
            ]
          },
          "metadata": {},
          "execution_count": 6
        }
      ]
    },
    {
      "cell_type": "code",
      "source": [
        "j=3\n",
        "\n",
        "for i in range(1,5):\n",
        "    c=101\n",
        "    print(\"  \"*j,end=' ')\n",
        "    for n in range (1,i+1):\n",
        "            print (chr(c),end=' ')\n",
        "            c-=1\n",
        "    c+=1\n",
        "    for n in range (1,i):\n",
        "        c+=1\n",
        "        print (chr(c),end=' ')\n",
        "    print(\"  \"*j)  \n",
        "    j-=1\n",
        "j=1                                                                                                                                                                                                                                                                                                                                                                                                                                                                                                                                                                                                                                                                                                                                                                                                                                                        \n",
        "for i in range (3,0,-1):\n",
        "    c=101\n",
        "    print(\"  \"*j,end=' ')\n",
        "    for n in range (i,0,-1):\n",
        "            print (chr(c),end=' ')\n",
        "            c-=1\n",
        "    c+=1\n",
        "    for n in range (i,1,-1):\n",
        "        c+=1\n",
        "        print (chr(c),end=' ')\n",
        "    print(\"  \"*j)  \n",
        "    j+=1"
      ],
      "metadata": {
        "colab": {
          "base_uri": "https://localhost:8080/"
        },
        "id": "8NbqxkTd62zz",
        "outputId": "0d306361-4c7e-4f3d-cf7a-6ef0d5703b8e"
      },
      "execution_count": 7,
      "outputs": [
        {
          "output_type": "stream",
          "name": "stdout",
          "text": [
            "       e       \n",
            "     e d e     \n",
            "   e d c d e   \n",
            " e d c b c d e \n",
            "   e d c d e   \n",
            "     e d e     \n",
            "       e       \n"
          ]
        }
      ]
    },
    {
      "cell_type": "code",
      "source": [
        "num1,num2 = int(input()),int(input())\n",
        "if num1>num2:\n",
        "  if num1 == num2:\n",
        "    print(\"equal he\")\n",
        "  else:\n",
        "    print(\"num1>num2\")\n",
        "else:\n",
        "  print(\"gell\")\n"
      ],
      "metadata": {
        "colab": {
          "base_uri": "https://localhost:8080/"
        },
        "id": "YXjyxiIy7ATz",
        "outputId": "4dc3aecb-f5a5-419a-9aa0-86d2de4acb65"
      },
      "execution_count": 8,
      "outputs": [
        {
          "output_type": "stream",
          "name": "stdout",
          "text": [
            "4\n",
            "5\n",
            "gell\n"
          ]
        }
      ]
    },
    {
      "cell_type": "code",
      "source": [
        "\"\"\"\n",
        "Write a program to find the number is number is postive, negative or zero one using nested and elif statement\n",
        "\"\"\"\n",
        "a1 = int(input(\"Enter a number\"))\n",
        "\n",
        "# if and elif\n",
        "if(a1>0):\n",
        "  print(\"+ve\")\n",
        "elif(a1 == 0):\n",
        "  print(\"zero\")\n",
        "else:\n",
        "  print(\"-ve\")\n",
        "\n"
      ],
      "metadata": {
        "colab": {
          "base_uri": "https://localhost:8080/"
        },
        "id": "oHomv0J47j-D",
        "outputId": "55823851-8b0c-43ad-c507-c3202ef8d060"
      },
      "execution_count": 9,
      "outputs": [
        {
          "output_type": "stream",
          "name": "stdout",
          "text": [
            "Enter a number4\n",
            "+ve\n"
          ]
        }
      ]
    },
    {
      "cell_type": "code",
      "source": [
        "a1 = int(input(\"Enter a number\"))\n",
        "\n",
        "# if and elif\n",
        "if(a1<0):\n",
        "  print(\"-ve\")\n",
        "else:\n",
        "  if(a1 ==0):\n",
        "    print(\"zero\")\n",
        "  else:\n",
        "    print(\"+ve\")"
      ],
      "metadata": {
        "colab": {
          "base_uri": "https://localhost:8080/"
        },
        "id": "_BPAuo909JIb",
        "outputId": "78f9c709-26b4-4335-d158-207be93f1162"
      },
      "execution_count": 10,
      "outputs": [
        {
          "output_type": "stream",
          "name": "stdout",
          "text": [
            "Enter a number1\n",
            "+ve\n"
          ]
        }
      ]
    },
    {
      "cell_type": "code",
      "source": [
        "a = []\n",
        "for i in range(10):\n",
        "  b = int(input(\"enter a nmuber\"))\n",
        "  a.append(b)\n",
        "print(a)"
      ],
      "metadata": {
        "colab": {
          "base_uri": "https://localhost:8080/"
        },
        "id": "2UKSnJOF9vuR",
        "outputId": "3cc4ccee-a725-4ad8-8ef8-413b490a0388"
      },
      "execution_count": 14,
      "outputs": [
        {
          "output_type": "stream",
          "name": "stdout",
          "text": [
            "enter a nmuber1\n",
            "enter a nmuber2\n",
            "enter a nmuber3\n",
            "enter a nmuber4\n",
            "enter a nmuber5\n",
            "enter a nmuber6\n",
            "enter a nmuber7\n",
            "enter a nmuber8\n",
            "enter a nmuber9\n",
            "enter a nmuber10\n",
            "[1, 2, 3, 4, 5, 6, 7, 8, 9, 10]\n"
          ]
        }
      ]
    },
    {
      "cell_type": "code",
      "source": [
        "count = int(input(\"kuch bhi\"))\n",
        "i = 2\n",
        "while i <= count:\n",
        "  print(\"hello\")\n",
        "  i += 1"
      ],
      "metadata": {
        "colab": {
          "base_uri": "https://localhost:8080/"
        },
        "id": "WA_ZwpEF9rG1",
        "outputId": "f4834d9c-fb42-4acf-cd23-37de70f8760f"
      },
      "execution_count": 16,
      "outputs": [
        {
          "output_type": "stream",
          "name": "stdout",
          "text": [
            "kuch bhi2\n",
            "hello\n"
          ]
        }
      ]
    },
    {
      "cell_type": "code",
      "source": [
        "for i in range (1,15,2):\n",
        "  print(i)"
      ],
      "metadata": {
        "colab": {
          "base_uri": "https://localhost:8080/"
        },
        "id": "NMTxIcyF_Yo4",
        "outputId": "69db5c92-391a-4843-d25b-bcbf012c8018"
      },
      "execution_count": 19,
      "outputs": [
        {
          "output_type": "stream",
          "name": "stdout",
          "text": [
            "1\n",
            "3\n",
            "5\n",
            "7\n",
            "9\n",
            "11\n",
            "13\n"
          ]
        }
      ]
    },
    {
      "cell_type": "code",
      "source": [
        "a = [0,1,2,3,4]\n",
        "print(a[0:-1])"
      ],
      "metadata": {
        "colab": {
          "base_uri": "https://localhost:8080/"
        },
        "id": "bQn2fdrQATTR",
        "outputId": "303988d1-d2bb-4455-e98c-a26ce2dd0ab3"
      },
      "execution_count": 22,
      "outputs": [
        {
          "output_type": "stream",
          "name": "stdout",
          "text": [
            "[0, 1, 2, 3]\n"
          ]
        }
      ]
    },
    {
      "cell_type": "code",
      "source": [
        "for i in range (0,50,7):\n",
        "  print(i)"
      ],
      "metadata": {
        "colab": {
          "base_uri": "https://localhost:8080/"
        },
        "id": "54kBjV4DAsZb",
        "outputId": "88d9411a-86a3-4c35-eaa8-538004a249c6"
      },
      "execution_count": 24,
      "outputs": [
        {
          "output_type": "stream",
          "name": "stdout",
          "text": [
            "0\n",
            "7\n",
            "14\n",
            "21\n",
            "28\n",
            "35\n",
            "42\n",
            "49\n"
          ]
        }
      ]
    },
    {
      "cell_type": "code",
      "source": [],
      "metadata": {
        "id": "UZPjtkyMA6NN"
      },
      "execution_count": null,
      "outputs": []
    }
  ]
}